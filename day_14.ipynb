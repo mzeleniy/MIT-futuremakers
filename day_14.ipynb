{
  "nbformat": 4,
  "nbformat_minor": 0,
  "metadata": {
    "colab": {
      "name": "day 14",
      "provenance": [],
      "authorship_tag": "ABX9TyPWEopFk45Wmh6Ic4m2Ba7D",
      "include_colab_link": true
    },
    "kernelspec": {
      "name": "python3",
      "display_name": "Python 3"
    },
    "language_info": {
      "name": "python"
    }
  },
  "cells": [
    {
      "cell_type": "markdown",
      "metadata": {
        "id": "view-in-github",
        "colab_type": "text"
      },
      "source": [
        "<a href=\"https://colab.research.google.com/github/mzeleniy/MIT-futuremakers/blob/main/day_14.ipynb\" target=\"_parent\"><img src=\"https://colab.research.google.com/assets/colab-badge.svg\" alt=\"Open In Colab\"/></a>"
      ]
    },
    {
      "cell_type": "code",
      "metadata": {
        "colab": {
          "base_uri": "https://localhost:8080/"
        },
        "id": "NwUg8iPcwdrg",
        "outputId": "8b2b63f4-a6dd-46b7-b04f-196f64b539da"
      },
      "source": [
        "import pandas as pd\n",
        "from google.colab import drive\n",
        "drive.mount(\"/content/gfdrive\")\n",
        "#import pandas and import google drive"
      ],
      "execution_count": 1,
      "outputs": [
        {
          "output_type": "stream",
          "text": [
            "Mounted at /content/gfdrive\n"
          ],
          "name": "stdout"
        }
      ]
    },
    {
      "cell_type": "code",
      "metadata": {
        "colab": {
          "base_uri": "https://localhost:8080/",
          "height": 419
        },
        "id": "PgfXyOEexELn",
        "outputId": "99b522d8-bd93-4222-e71d-4eb67611748d"
      },
      "source": [
        "df = pd.read_csv('/content/gfdrive/MyDrive/mit futuremakers/housepricedata.csv')\n",
        "\n",
        "df\n",
        "#import the file I am working with"
      ],
      "execution_count": 2,
      "outputs": [
        {
          "output_type": "execute_result",
          "data": {
            "text/html": [
              "<div>\n",
              "<style scoped>\n",
              "    .dataframe tbody tr th:only-of-type {\n",
              "        vertical-align: middle;\n",
              "    }\n",
              "\n",
              "    .dataframe tbody tr th {\n",
              "        vertical-align: top;\n",
              "    }\n",
              "\n",
              "    .dataframe thead th {\n",
              "        text-align: right;\n",
              "    }\n",
              "</style>\n",
              "<table border=\"1\" class=\"dataframe\">\n",
              "  <thead>\n",
              "    <tr style=\"text-align: right;\">\n",
              "      <th></th>\n",
              "      <th>LotArea</th>\n",
              "      <th>OverallQual</th>\n",
              "      <th>OverallCond</th>\n",
              "      <th>TotalBsmtSF</th>\n",
              "      <th>FullBath</th>\n",
              "      <th>HalfBath</th>\n",
              "      <th>BedroomAbvGr</th>\n",
              "      <th>TotRmsAbvGrd</th>\n",
              "      <th>Fireplaces</th>\n",
              "      <th>GarageArea</th>\n",
              "      <th>AboveMedianPrice</th>\n",
              "    </tr>\n",
              "  </thead>\n",
              "  <tbody>\n",
              "    <tr>\n",
              "      <th>0</th>\n",
              "      <td>8450</td>\n",
              "      <td>7</td>\n",
              "      <td>5</td>\n",
              "      <td>856</td>\n",
              "      <td>2</td>\n",
              "      <td>1</td>\n",
              "      <td>3</td>\n",
              "      <td>8</td>\n",
              "      <td>0</td>\n",
              "      <td>548</td>\n",
              "      <td>1</td>\n",
              "    </tr>\n",
              "    <tr>\n",
              "      <th>1</th>\n",
              "      <td>9600</td>\n",
              "      <td>6</td>\n",
              "      <td>8</td>\n",
              "      <td>1262</td>\n",
              "      <td>2</td>\n",
              "      <td>0</td>\n",
              "      <td>3</td>\n",
              "      <td>6</td>\n",
              "      <td>1</td>\n",
              "      <td>460</td>\n",
              "      <td>1</td>\n",
              "    </tr>\n",
              "    <tr>\n",
              "      <th>2</th>\n",
              "      <td>11250</td>\n",
              "      <td>7</td>\n",
              "      <td>5</td>\n",
              "      <td>920</td>\n",
              "      <td>2</td>\n",
              "      <td>1</td>\n",
              "      <td>3</td>\n",
              "      <td>6</td>\n",
              "      <td>1</td>\n",
              "      <td>608</td>\n",
              "      <td>1</td>\n",
              "    </tr>\n",
              "    <tr>\n",
              "      <th>3</th>\n",
              "      <td>9550</td>\n",
              "      <td>7</td>\n",
              "      <td>5</td>\n",
              "      <td>756</td>\n",
              "      <td>1</td>\n",
              "      <td>0</td>\n",
              "      <td>3</td>\n",
              "      <td>7</td>\n",
              "      <td>1</td>\n",
              "      <td>642</td>\n",
              "      <td>0</td>\n",
              "    </tr>\n",
              "    <tr>\n",
              "      <th>4</th>\n",
              "      <td>14260</td>\n",
              "      <td>8</td>\n",
              "      <td>5</td>\n",
              "      <td>1145</td>\n",
              "      <td>2</td>\n",
              "      <td>1</td>\n",
              "      <td>4</td>\n",
              "      <td>9</td>\n",
              "      <td>1</td>\n",
              "      <td>836</td>\n",
              "      <td>1</td>\n",
              "    </tr>\n",
              "    <tr>\n",
              "      <th>...</th>\n",
              "      <td>...</td>\n",
              "      <td>...</td>\n",
              "      <td>...</td>\n",
              "      <td>...</td>\n",
              "      <td>...</td>\n",
              "      <td>...</td>\n",
              "      <td>...</td>\n",
              "      <td>...</td>\n",
              "      <td>...</td>\n",
              "      <td>...</td>\n",
              "      <td>...</td>\n",
              "    </tr>\n",
              "    <tr>\n",
              "      <th>1455</th>\n",
              "      <td>7917</td>\n",
              "      <td>6</td>\n",
              "      <td>5</td>\n",
              "      <td>953</td>\n",
              "      <td>2</td>\n",
              "      <td>1</td>\n",
              "      <td>3</td>\n",
              "      <td>7</td>\n",
              "      <td>1</td>\n",
              "      <td>460</td>\n",
              "      <td>1</td>\n",
              "    </tr>\n",
              "    <tr>\n",
              "      <th>1456</th>\n",
              "      <td>13175</td>\n",
              "      <td>6</td>\n",
              "      <td>6</td>\n",
              "      <td>1542</td>\n",
              "      <td>2</td>\n",
              "      <td>0</td>\n",
              "      <td>3</td>\n",
              "      <td>7</td>\n",
              "      <td>2</td>\n",
              "      <td>500</td>\n",
              "      <td>1</td>\n",
              "    </tr>\n",
              "    <tr>\n",
              "      <th>1457</th>\n",
              "      <td>9042</td>\n",
              "      <td>7</td>\n",
              "      <td>9</td>\n",
              "      <td>1152</td>\n",
              "      <td>2</td>\n",
              "      <td>0</td>\n",
              "      <td>4</td>\n",
              "      <td>9</td>\n",
              "      <td>2</td>\n",
              "      <td>252</td>\n",
              "      <td>1</td>\n",
              "    </tr>\n",
              "    <tr>\n",
              "      <th>1458</th>\n",
              "      <td>9717</td>\n",
              "      <td>5</td>\n",
              "      <td>6</td>\n",
              "      <td>1078</td>\n",
              "      <td>1</td>\n",
              "      <td>0</td>\n",
              "      <td>2</td>\n",
              "      <td>5</td>\n",
              "      <td>0</td>\n",
              "      <td>240</td>\n",
              "      <td>0</td>\n",
              "    </tr>\n",
              "    <tr>\n",
              "      <th>1459</th>\n",
              "      <td>9937</td>\n",
              "      <td>5</td>\n",
              "      <td>6</td>\n",
              "      <td>1256</td>\n",
              "      <td>1</td>\n",
              "      <td>1</td>\n",
              "      <td>3</td>\n",
              "      <td>6</td>\n",
              "      <td>0</td>\n",
              "      <td>276</td>\n",
              "      <td>0</td>\n",
              "    </tr>\n",
              "  </tbody>\n",
              "</table>\n",
              "<p>1460 rows × 11 columns</p>\n",
              "</div>"
            ],
            "text/plain": [
              "      LotArea  OverallQual  ...  GarageArea  AboveMedianPrice\n",
              "0        8450            7  ...         548                 1\n",
              "1        9600            6  ...         460                 1\n",
              "2       11250            7  ...         608                 1\n",
              "3        9550            7  ...         642                 0\n",
              "4       14260            8  ...         836                 1\n",
              "...       ...          ...  ...         ...               ...\n",
              "1455     7917            6  ...         460                 1\n",
              "1456    13175            6  ...         500                 1\n",
              "1457     9042            7  ...         252                 1\n",
              "1458     9717            5  ...         240                 0\n",
              "1459     9937            5  ...         276                 0\n",
              "\n",
              "[1460 rows x 11 columns]"
            ]
          },
          "metadata": {
            "tags": []
          },
          "execution_count": 2
        }
      ]
    },
    {
      "cell_type": "code",
      "metadata": {
        "id": "KOEsBSk4_cNc"
      },
      "source": [
        "dataset = df.values\n",
        "#store dataset in an array"
      ],
      "execution_count": 3,
      "outputs": []
    },
    {
      "cell_type": "code",
      "metadata": {
        "colab": {
          "base_uri": "https://localhost:8080/"
        },
        "id": "8XE-ZhJT_iYM",
        "outputId": "73c5bc59-ae92-4dbe-ebda-76c5c16f1ecb"
      },
      "source": [
        "dataset\n",
        "#access the values in dataset"
      ],
      "execution_count": 4,
      "outputs": [
        {
          "output_type": "execute_result",
          "data": {
            "text/plain": [
              "array([[ 8450,     7,     5, ...,     0,   548,     1],\n",
              "       [ 9600,     6,     8, ...,     1,   460,     1],\n",
              "       [11250,     7,     5, ...,     1,   608,     1],\n",
              "       ...,\n",
              "       [ 9042,     7,     9, ...,     2,   252,     1],\n",
              "       [ 9717,     5,     6, ...,     0,   240,     0],\n",
              "       [ 9937,     5,     6, ...,     0,   276,     0]])"
            ]
          },
          "metadata": {
            "tags": []
          },
          "execution_count": 4
        }
      ]
    },
    {
      "cell_type": "code",
      "metadata": {
        "id": "dSyd3nSw_lGC"
      },
      "source": [
        "X = dataset[:,0:10]\n",
        "#assign first 10 columns of array to variable called X and last column of our array to a variable called Y\n",
        "Y = dataset[:,10]\n",
        "#assign last column of our array to Y"
      ],
      "execution_count": 5,
      "outputs": []
    },
    {
      "cell_type": "code",
      "metadata": {
        "id": "KQzDNul8PkYy"
      },
      "source": [
        "from sklearn import preprocessing"
      ],
      "execution_count": 6,
      "outputs": []
    },
    {
      "cell_type": "code",
      "metadata": {
        "id": "UaukRMGNUdwF"
      },
      "source": [
        "min_max_scaler = preprocessing.MinMaxScaler() #scales dataset so that all input features lie between 0 and 1\n",
        "X_scale = min_max_scaler.fit_transform(X) #scaled dataset is stored in this array"
      ],
      "execution_count": 7,
      "outputs": []
    },
    {
      "cell_type": "code",
      "metadata": {
        "colab": {
          "base_uri": "https://localhost:8080/"
        },
        "id": "E11tTw6mUyDp",
        "outputId": "2e647d6c-391a-4ef7-c544-386ebe8d9573"
      },
      "source": [
        "X_scale"
      ],
      "execution_count": 8,
      "outputs": [
        {
          "output_type": "execute_result",
          "data": {
            "text/plain": [
              "array([[0.0334198 , 0.66666667, 0.5       , ..., 0.5       , 0.        ,\n",
              "        0.3864598 ],\n",
              "       [0.03879502, 0.55555556, 0.875     , ..., 0.33333333, 0.33333333,\n",
              "        0.32440056],\n",
              "       [0.04650728, 0.66666667, 0.5       , ..., 0.33333333, 0.33333333,\n",
              "        0.42877292],\n",
              "       ...,\n",
              "       [0.03618687, 0.66666667, 1.        , ..., 0.58333333, 0.66666667,\n",
              "        0.17771509],\n",
              "       [0.03934189, 0.44444444, 0.625     , ..., 0.25      , 0.        ,\n",
              "        0.16925247],\n",
              "       [0.04037019, 0.44444444, 0.625     , ..., 0.33333333, 0.        ,\n",
              "        0.19464034]])"
            ]
          },
          "metadata": {
            "tags": []
          },
          "execution_count": 8
        }
      ]
    },
    {
      "cell_type": "code",
      "metadata": {
        "id": "7kUzdFrcU3av"
      },
      "source": [
        "from sklearn.model_selection import train_test_split"
      ],
      "execution_count": 9,
      "outputs": []
    },
    {
      "cell_type": "code",
      "metadata": {
        "id": "ysop1Cd7W_lp"
      },
      "source": [
        "X_train, X_val_and_test, Y_train, Y_val_and_test = train_test_split(X_scale, Y, test_size=0.3)\n",
        "#test size will be 30% of the overall dataset"
      ],
      "execution_count": 10,
      "outputs": []
    },
    {
      "cell_type": "code",
      "metadata": {
        "id": "QfM8g-tTY3FT"
      },
      "source": [
        "X_val, X_test, Y_val, Y_test = train_test_split(X_val_and_test, Y_val_and_test, test_size=0.5)\n",
        "#splits equally to validation set and test set"
      ],
      "execution_count": 11,
      "outputs": []
    },
    {
      "cell_type": "code",
      "metadata": {
        "colab": {
          "base_uri": "https://localhost:8080/"
        },
        "id": "0fJOEhCPZfen",
        "outputId": "45db094c-3bf4-445b-a324-b28f8cf8407a"
      },
      "source": [
        "print(X_train.shape, X_val.shape, X_test.shape, Y_train.shape, Y_val.shape, Y_test.shape)"
      ],
      "execution_count": 12,
      "outputs": [
        {
          "output_type": "stream",
          "text": [
            "(1022, 10) (219, 10) (219, 10) (1022,) (219,) (219,)\n"
          ],
          "name": "stdout"
        }
      ]
    },
    {
      "cell_type": "markdown",
      "metadata": {
        "id": "R7Kk26fSgKOr"
      },
      "source": [
        "building and training our first neural network"
      ]
    },
    {
      "cell_type": "code",
      "metadata": {
        "id": "-61FTlUegPH-"
      },
      "source": [
        "from keras.models import Sequential\n",
        "from keras.layers import Dense\n",
        "model = Sequential([ #store our model in the variable model and we will describe it sequentially layer by layer\n",
        "   Dense(32, activation='relu', input_shape=(10,)), #32 neurons 10 input features, dense is a fully connected layer\n",
        "   Dense(32, activation='relu'),#32 neurons, ReLu activation\n",
        "   Dense(1, activation='sigmoid'), #1 neuron, sigmoid acvitivation               \n",
        "])"
      ],
      "execution_count": 13,
      "outputs": []
    },
    {
      "cell_type": "markdown",
      "metadata": {
        "id": "mV5R1NdnwaZb"
      },
      "source": [
        "filling in the best numbers"
      ]
    },
    {
      "cell_type": "code",
      "metadata": {
        "id": "dwi-qfvmwdP-"
      },
      "source": [
        "model.compile(optimizer='sgd',\n",
        "              loss='binary_crossentropy',\n",
        "             \n",
        "              metrics=['accuracy'])"
      ],
      "execution_count": 14,
      "outputs": []
    },
    {
      "cell_type": "code",
      "metadata": {
        "colab": {
          "base_uri": "https://localhost:8080/"
        },
        "id": "k-t6Uo6h40xw",
        "outputId": "b39c96ba-d982-42b8-b920-d09c19089209"
      },
      "source": [
        "hist = model.fit(X_train, Y_train, # fitting the parameters to the data\n",
        "          batch_size=32, epochs=100,\n",
        "          validation_data=(X_val, Y_val))"
      ],
      "execution_count": 20,
      "outputs": [
        {
          "output_type": "stream",
          "text": [
            "Epoch 1/100\n",
            "32/32 [==============================] - 2s 4ms/step - loss: 0.6808 - accuracy: 0.7094 - val_loss: 0.6816 - val_accuracy: 0.6621\n",
            "Epoch 2/100\n",
            "32/32 [==============================] - 0s 2ms/step - loss: 0.6748 - accuracy: 0.7162 - val_loss: 0.6748 - val_accuracy: 0.6895\n",
            "Epoch 3/100\n",
            "32/32 [==============================] - 0s 2ms/step - loss: 0.6668 - accuracy: 0.7348 - val_loss: 0.6669 - val_accuracy: 0.7078\n",
            "Epoch 4/100\n",
            "32/32 [==============================] - 0s 2ms/step - loss: 0.6586 - accuracy: 0.7661 - val_loss: 0.6594 - val_accuracy: 0.7443\n",
            "Epoch 5/100\n",
            "32/32 [==============================] - 0s 2ms/step - loss: 0.6510 - accuracy: 0.8072 - val_loss: 0.6517 - val_accuracy: 0.7854\n",
            "Epoch 6/100\n",
            "32/32 [==============================] - 0s 2ms/step - loss: 0.6441 - accuracy: 0.8151 - val_loss: 0.6454 - val_accuracy: 0.7808\n",
            "Epoch 7/100\n",
            "32/32 [==============================] - 0s 2ms/step - loss: 0.6384 - accuracy: 0.8307 - val_loss: 0.6403 - val_accuracy: 0.7808\n",
            "Epoch 8/100\n",
            "32/32 [==============================] - 0s 2ms/step - loss: 0.6331 - accuracy: 0.8317 - val_loss: 0.6354 - val_accuracy: 0.7854\n",
            "Epoch 9/100\n",
            "32/32 [==============================] - 0s 2ms/step - loss: 0.6277 - accuracy: 0.8297 - val_loss: 0.6300 - val_accuracy: 0.7900\n",
            "Epoch 10/100\n",
            "32/32 [==============================] - 0s 2ms/step - loss: 0.6221 - accuracy: 0.8395 - val_loss: 0.6247 - val_accuracy: 0.7854\n",
            "Epoch 11/100\n",
            "32/32 [==============================] - 0s 2ms/step - loss: 0.6162 - accuracy: 0.8444 - val_loss: 0.6189 - val_accuracy: 0.7854\n",
            "Epoch 12/100\n",
            "32/32 [==============================] - 0s 3ms/step - loss: 0.6100 - accuracy: 0.8425 - val_loss: 0.6127 - val_accuracy: 0.7854\n",
            "Epoch 13/100\n",
            "32/32 [==============================] - 0s 3ms/step - loss: 0.6033 - accuracy: 0.8434 - val_loss: 0.6064 - val_accuracy: 0.7900\n",
            "Epoch 14/100\n",
            "32/32 [==============================] - 0s 2ms/step - loss: 0.5963 - accuracy: 0.8425 - val_loss: 0.5995 - val_accuracy: 0.7945\n",
            "Epoch 15/100\n",
            "32/32 [==============================] - 0s 2ms/step - loss: 0.5885 - accuracy: 0.8444 - val_loss: 0.5918 - val_accuracy: 0.7900\n",
            "Epoch 16/100\n",
            "32/32 [==============================] - 0s 2ms/step - loss: 0.5801 - accuracy: 0.8464 - val_loss: 0.5837 - val_accuracy: 0.7854\n",
            "Epoch 17/100\n",
            "32/32 [==============================] - 0s 2ms/step - loss: 0.5713 - accuracy: 0.8474 - val_loss: 0.5750 - val_accuracy: 0.7808\n",
            "Epoch 18/100\n",
            "32/32 [==============================] - 0s 2ms/step - loss: 0.5619 - accuracy: 0.8474 - val_loss: 0.5666 - val_accuracy: 0.7854\n",
            "Epoch 19/100\n",
            "32/32 [==============================] - 0s 2ms/step - loss: 0.5524 - accuracy: 0.8464 - val_loss: 0.5582 - val_accuracy: 0.7945\n",
            "Epoch 20/100\n",
            "32/32 [==============================] - 0s 2ms/step - loss: 0.5429 - accuracy: 0.8493 - val_loss: 0.5495 - val_accuracy: 0.7900\n",
            "Epoch 21/100\n",
            "32/32 [==============================] - 0s 3ms/step - loss: 0.5331 - accuracy: 0.8493 - val_loss: 0.5406 - val_accuracy: 0.7900\n",
            "Epoch 22/100\n",
            "32/32 [==============================] - 0s 2ms/step - loss: 0.5233 - accuracy: 0.8513 - val_loss: 0.5315 - val_accuracy: 0.7808\n",
            "Epoch 23/100\n",
            "32/32 [==============================] - 0s 3ms/step - loss: 0.5134 - accuracy: 0.8513 - val_loss: 0.5225 - val_accuracy: 0.7900\n",
            "Epoch 24/100\n",
            "32/32 [==============================] - 0s 3ms/step - loss: 0.5033 - accuracy: 0.8513 - val_loss: 0.5138 - val_accuracy: 0.7808\n",
            "Epoch 25/100\n",
            "32/32 [==============================] - 0s 2ms/step - loss: 0.4933 - accuracy: 0.8542 - val_loss: 0.5049 - val_accuracy: 0.7945\n",
            "Epoch 26/100\n",
            "32/32 [==============================] - 0s 2ms/step - loss: 0.4836 - accuracy: 0.8503 - val_loss: 0.4962 - val_accuracy: 0.7945\n",
            "Epoch 27/100\n",
            "32/32 [==============================] - 0s 3ms/step - loss: 0.4737 - accuracy: 0.8503 - val_loss: 0.4879 - val_accuracy: 0.7945\n",
            "Epoch 28/100\n",
            "32/32 [==============================] - 0s 2ms/step - loss: 0.4640 - accuracy: 0.8552 - val_loss: 0.4795 - val_accuracy: 0.7945\n",
            "Epoch 29/100\n",
            "32/32 [==============================] - 0s 2ms/step - loss: 0.4547 - accuracy: 0.8562 - val_loss: 0.4714 - val_accuracy: 0.7945\n",
            "Epoch 30/100\n",
            "32/32 [==============================] - 0s 3ms/step - loss: 0.4455 - accuracy: 0.8581 - val_loss: 0.4634 - val_accuracy: 0.7991\n",
            "Epoch 31/100\n",
            "32/32 [==============================] - 0s 3ms/step - loss: 0.4363 - accuracy: 0.8601 - val_loss: 0.4557 - val_accuracy: 0.7991\n",
            "Epoch 32/100\n",
            "32/32 [==============================] - 0s 2ms/step - loss: 0.4280 - accuracy: 0.8581 - val_loss: 0.4484 - val_accuracy: 0.7991\n",
            "Epoch 33/100\n",
            "32/32 [==============================] - 0s 2ms/step - loss: 0.4192 - accuracy: 0.8591 - val_loss: 0.4414 - val_accuracy: 0.7991\n",
            "Epoch 34/100\n",
            "32/32 [==============================] - 0s 2ms/step - loss: 0.4109 - accuracy: 0.8591 - val_loss: 0.4349 - val_accuracy: 0.7991\n",
            "Epoch 35/100\n",
            "32/32 [==============================] - 0s 3ms/step - loss: 0.4032 - accuracy: 0.8659 - val_loss: 0.4284 - val_accuracy: 0.7945\n",
            "Epoch 36/100\n",
            "32/32 [==============================] - 0s 2ms/step - loss: 0.3961 - accuracy: 0.8650 - val_loss: 0.4224 - val_accuracy: 0.7991\n",
            "Epoch 37/100\n",
            "32/32 [==============================] - 0s 2ms/step - loss: 0.3889 - accuracy: 0.8659 - val_loss: 0.4169 - val_accuracy: 0.7991\n",
            "Epoch 38/100\n",
            "32/32 [==============================] - 0s 2ms/step - loss: 0.3823 - accuracy: 0.8679 - val_loss: 0.4116 - val_accuracy: 0.8037\n",
            "Epoch 39/100\n",
            "32/32 [==============================] - 0s 2ms/step - loss: 0.3763 - accuracy: 0.8659 - val_loss: 0.4064 - val_accuracy: 0.8082\n",
            "Epoch 40/100\n",
            "32/32 [==============================] - 0s 2ms/step - loss: 0.3705 - accuracy: 0.8708 - val_loss: 0.4018 - val_accuracy: 0.8037\n",
            "Epoch 41/100\n",
            "32/32 [==============================] - 0s 3ms/step - loss: 0.3642 - accuracy: 0.8728 - val_loss: 0.3984 - val_accuracy: 0.8082\n",
            "Epoch 42/100\n",
            "32/32 [==============================] - 0s 3ms/step - loss: 0.3593 - accuracy: 0.8669 - val_loss: 0.3938 - val_accuracy: 0.8082\n",
            "Epoch 43/100\n",
            "32/32 [==============================] - 0s 2ms/step - loss: 0.3543 - accuracy: 0.8699 - val_loss: 0.3896 - val_accuracy: 0.8082\n",
            "Epoch 44/100\n",
            "32/32 [==============================] - 0s 2ms/step - loss: 0.3495 - accuracy: 0.8718 - val_loss: 0.3854 - val_accuracy: 0.8174\n",
            "Epoch 45/100\n",
            "32/32 [==============================] - 0s 2ms/step - loss: 0.3451 - accuracy: 0.8738 - val_loss: 0.3819 - val_accuracy: 0.8219\n",
            "Epoch 46/100\n",
            "32/32 [==============================] - 0s 3ms/step - loss: 0.3406 - accuracy: 0.8767 - val_loss: 0.3797 - val_accuracy: 0.8174\n",
            "Epoch 47/100\n",
            "32/32 [==============================] - 0s 2ms/step - loss: 0.3369 - accuracy: 0.8669 - val_loss: 0.3753 - val_accuracy: 0.8356\n",
            "Epoch 48/100\n",
            "32/32 [==============================] - 0s 2ms/step - loss: 0.3333 - accuracy: 0.8767 - val_loss: 0.3726 - val_accuracy: 0.8311\n",
            "Epoch 49/100\n",
            "32/32 [==============================] - 0s 2ms/step - loss: 0.3294 - accuracy: 0.8767 - val_loss: 0.3697 - val_accuracy: 0.8356\n",
            "Epoch 50/100\n",
            "32/32 [==============================] - 0s 3ms/step - loss: 0.3261 - accuracy: 0.8806 - val_loss: 0.3692 - val_accuracy: 0.8265\n",
            "Epoch 51/100\n",
            "32/32 [==============================] - 0s 3ms/step - loss: 0.3235 - accuracy: 0.8767 - val_loss: 0.3656 - val_accuracy: 0.8311\n",
            "Epoch 52/100\n",
            "32/32 [==============================] - 0s 2ms/step - loss: 0.3204 - accuracy: 0.8757 - val_loss: 0.3632 - val_accuracy: 0.8356\n",
            "Epoch 53/100\n",
            "32/32 [==============================] - 0s 3ms/step - loss: 0.3173 - accuracy: 0.8777 - val_loss: 0.3604 - val_accuracy: 0.8356\n",
            "Epoch 54/100\n",
            "32/32 [==============================] - 0s 2ms/step - loss: 0.3145 - accuracy: 0.8806 - val_loss: 0.3580 - val_accuracy: 0.8356\n",
            "Epoch 55/100\n",
            "32/32 [==============================] - 0s 2ms/step - loss: 0.3119 - accuracy: 0.8796 - val_loss: 0.3572 - val_accuracy: 0.8447\n",
            "Epoch 56/100\n",
            "32/32 [==============================] - 0s 3ms/step - loss: 0.3095 - accuracy: 0.8826 - val_loss: 0.3554 - val_accuracy: 0.8493\n",
            "Epoch 57/100\n",
            "32/32 [==============================] - 0s 2ms/step - loss: 0.3070 - accuracy: 0.8777 - val_loss: 0.3532 - val_accuracy: 0.8493\n",
            "Epoch 58/100\n",
            "32/32 [==============================] - 0s 2ms/step - loss: 0.3048 - accuracy: 0.8796 - val_loss: 0.3516 - val_accuracy: 0.8493\n",
            "Epoch 59/100\n",
            "32/32 [==============================] - 0s 2ms/step - loss: 0.3028 - accuracy: 0.8816 - val_loss: 0.3519 - val_accuracy: 0.8447\n",
            "Epoch 60/100\n",
            "32/32 [==============================] - 0s 3ms/step - loss: 0.3008 - accuracy: 0.8836 - val_loss: 0.3481 - val_accuracy: 0.8493\n",
            "Epoch 61/100\n",
            "32/32 [==============================] - 0s 3ms/step - loss: 0.2986 - accuracy: 0.8816 - val_loss: 0.3457 - val_accuracy: 0.8447\n",
            "Epoch 62/100\n",
            "32/32 [==============================] - 0s 3ms/step - loss: 0.2974 - accuracy: 0.8836 - val_loss: 0.3451 - val_accuracy: 0.8447\n",
            "Epoch 63/100\n",
            "32/32 [==============================] - 0s 2ms/step - loss: 0.2953 - accuracy: 0.8855 - val_loss: 0.3425 - val_accuracy: 0.8447\n",
            "Epoch 64/100\n",
            "32/32 [==============================] - 0s 2ms/step - loss: 0.2937 - accuracy: 0.8826 - val_loss: 0.3430 - val_accuracy: 0.8447\n",
            "Epoch 65/100\n",
            "32/32 [==============================] - 0s 2ms/step - loss: 0.2919 - accuracy: 0.8836 - val_loss: 0.3429 - val_accuracy: 0.8539\n",
            "Epoch 66/100\n",
            "32/32 [==============================] - 0s 2ms/step - loss: 0.2906 - accuracy: 0.8875 - val_loss: 0.3398 - val_accuracy: 0.8539\n",
            "Epoch 67/100\n",
            "32/32 [==============================] - 0s 2ms/step - loss: 0.2896 - accuracy: 0.8885 - val_loss: 0.3391 - val_accuracy: 0.8447\n",
            "Epoch 68/100\n",
            "32/32 [==============================] - 0s 3ms/step - loss: 0.2883 - accuracy: 0.8855 - val_loss: 0.3370 - val_accuracy: 0.8539\n",
            "Epoch 69/100\n",
            "32/32 [==============================] - 0s 3ms/step - loss: 0.2871 - accuracy: 0.8875 - val_loss: 0.3365 - val_accuracy: 0.8539\n",
            "Epoch 70/100\n",
            "32/32 [==============================] - 0s 2ms/step - loss: 0.2856 - accuracy: 0.8894 - val_loss: 0.3366 - val_accuracy: 0.8584\n",
            "Epoch 71/100\n",
            "32/32 [==============================] - 0s 2ms/step - loss: 0.2834 - accuracy: 0.8914 - val_loss: 0.3383 - val_accuracy: 0.8447\n",
            "Epoch 72/100\n",
            "32/32 [==============================] - 0s 3ms/step - loss: 0.2833 - accuracy: 0.8894 - val_loss: 0.3337 - val_accuracy: 0.8584\n",
            "Epoch 73/100\n",
            "32/32 [==============================] - 0s 2ms/step - loss: 0.2814 - accuracy: 0.8924 - val_loss: 0.3354 - val_accuracy: 0.8447\n",
            "Epoch 74/100\n",
            "32/32 [==============================] - 0s 2ms/step - loss: 0.2810 - accuracy: 0.8914 - val_loss: 0.3321 - val_accuracy: 0.8539\n",
            "Epoch 75/100\n",
            "32/32 [==============================] - 0s 3ms/step - loss: 0.2794 - accuracy: 0.8914 - val_loss: 0.3325 - val_accuracy: 0.8539\n",
            "Epoch 76/100\n",
            "32/32 [==============================] - 0s 2ms/step - loss: 0.2780 - accuracy: 0.8924 - val_loss: 0.3309 - val_accuracy: 0.8539\n",
            "Epoch 77/100\n",
            "32/32 [==============================] - 0s 2ms/step - loss: 0.2772 - accuracy: 0.8933 - val_loss: 0.3296 - val_accuracy: 0.8630\n",
            "Epoch 78/100\n",
            "32/32 [==============================] - 0s 3ms/step - loss: 0.2761 - accuracy: 0.8904 - val_loss: 0.3317 - val_accuracy: 0.8539\n",
            "Epoch 79/100\n",
            "32/32 [==============================] - 0s 3ms/step - loss: 0.2750 - accuracy: 0.8914 - val_loss: 0.3286 - val_accuracy: 0.8584\n",
            "Epoch 80/100\n",
            "32/32 [==============================] - 0s 2ms/step - loss: 0.2740 - accuracy: 0.8973 - val_loss: 0.3292 - val_accuracy: 0.8539\n",
            "Epoch 81/100\n",
            "32/32 [==============================] - 0s 3ms/step - loss: 0.2735 - accuracy: 0.8992 - val_loss: 0.3283 - val_accuracy: 0.8539\n",
            "Epoch 82/100\n",
            "32/32 [==============================] - 0s 3ms/step - loss: 0.2727 - accuracy: 0.8963 - val_loss: 0.3260 - val_accuracy: 0.8676\n",
            "Epoch 83/100\n",
            "32/32 [==============================] - 0s 2ms/step - loss: 0.2719 - accuracy: 0.8973 - val_loss: 0.3237 - val_accuracy: 0.8539\n",
            "Epoch 84/100\n",
            "32/32 [==============================] - 0s 2ms/step - loss: 0.2715 - accuracy: 0.8924 - val_loss: 0.3264 - val_accuracy: 0.8539\n",
            "Epoch 85/100\n",
            "32/32 [==============================] - 0s 3ms/step - loss: 0.2702 - accuracy: 0.8992 - val_loss: 0.3227 - val_accuracy: 0.8676\n",
            "Epoch 86/100\n",
            "32/32 [==============================] - 0s 3ms/step - loss: 0.2692 - accuracy: 0.8973 - val_loss: 0.3217 - val_accuracy: 0.8539\n",
            "Epoch 87/100\n",
            "32/32 [==============================] - 0s 2ms/step - loss: 0.2679 - accuracy: 0.8953 - val_loss: 0.3235 - val_accuracy: 0.8584\n",
            "Epoch 88/100\n",
            "32/32 [==============================] - 0s 2ms/step - loss: 0.2677 - accuracy: 0.8973 - val_loss: 0.3211 - val_accuracy: 0.8676\n",
            "Epoch 89/100\n",
            "32/32 [==============================] - 0s 2ms/step - loss: 0.2675 - accuracy: 0.9002 - val_loss: 0.3197 - val_accuracy: 0.8584\n",
            "Epoch 90/100\n",
            "32/32 [==============================] - 0s 3ms/step - loss: 0.2663 - accuracy: 0.9022 - val_loss: 0.3227 - val_accuracy: 0.8630\n",
            "Epoch 91/100\n",
            "32/32 [==============================] - 0s 3ms/step - loss: 0.2650 - accuracy: 0.9002 - val_loss: 0.3243 - val_accuracy: 0.8539\n",
            "Epoch 92/100\n",
            "32/32 [==============================] - 0s 2ms/step - loss: 0.2644 - accuracy: 0.9031 - val_loss: 0.3180 - val_accuracy: 0.8630\n",
            "Epoch 93/100\n",
            "32/32 [==============================] - 0s 3ms/step - loss: 0.2642 - accuracy: 0.8992 - val_loss: 0.3178 - val_accuracy: 0.8676\n",
            "Epoch 94/100\n",
            "32/32 [==============================] - 0s 2ms/step - loss: 0.2628 - accuracy: 0.8982 - val_loss: 0.3231 - val_accuracy: 0.8584\n",
            "Epoch 95/100\n",
            "32/32 [==============================] - 0s 3ms/step - loss: 0.2634 - accuracy: 0.8982 - val_loss: 0.3192 - val_accuracy: 0.8630\n",
            "Epoch 96/100\n",
            "32/32 [==============================] - 0s 3ms/step - loss: 0.2624 - accuracy: 0.8982 - val_loss: 0.3167 - val_accuracy: 0.8721\n",
            "Epoch 97/100\n",
            "32/32 [==============================] - 0s 3ms/step - loss: 0.2612 - accuracy: 0.8982 - val_loss: 0.3199 - val_accuracy: 0.8630\n",
            "Epoch 98/100\n",
            "32/32 [==============================] - 0s 2ms/step - loss: 0.2615 - accuracy: 0.9002 - val_loss: 0.3147 - val_accuracy: 0.8630\n",
            "Epoch 99/100\n",
            "32/32 [==============================] - 0s 3ms/step - loss: 0.2600 - accuracy: 0.9012 - val_loss: 0.3176 - val_accuracy: 0.8630\n",
            "Epoch 100/100\n",
            "32/32 [==============================] - 0s 2ms/step - loss: 0.2593 - accuracy: 0.9012 - val_loss: 0.3144 - val_accuracy: 0.8767\n"
          ],
          "name": "stdout"
        }
      ]
    },
    {
      "cell_type": "code",
      "metadata": {
        "colab": {
          "base_uri": "https://localhost:8080/"
        },
        "id": "IprpazcI5EdT",
        "outputId": "fa0269d4-be25-47fa-cd7c-cfe0bba31ef2"
      },
      "source": [
        "model.evaluate(X_test, Y_test)[1]"
      ],
      "execution_count": 15,
      "outputs": [
        {
          "output_type": "stream",
          "text": [
            "7/7 [==============================] - 14s 2ms/step - loss: 0.6844 - accuracy: 0.6611\n"
          ],
          "name": "stdout"
        },
        {
          "output_type": "execute_result",
          "data": {
            "text/plain": [
              "0.6940639019012451"
            ]
          },
          "metadata": {
            "tags": []
          },
          "execution_count": 15
        }
      ]
    },
    {
      "cell_type": "markdown",
      "metadata": {
        "id": "qvALpj3y5JCV"
      },
      "source": [
        "visualizing loss and accuracy"
      ]
    },
    {
      "cell_type": "code",
      "metadata": {
        "id": "YG4n18DH5NKw"
      },
      "source": [
        "import matplotlib.pyplot as plt"
      ],
      "execution_count": 18,
      "outputs": []
    },
    {
      "cell_type": "code",
      "metadata": {
        "colab": {
          "base_uri": "https://localhost:8080/",
          "height": 295
        },
        "id": "FEEnr8AL5RWg",
        "outputId": "61983a68-6d24-44a3-f0f6-597f6714ed30"
      },
      "source": [
        "plt.plot(hist.history['loss']) #training loss and validation loss\n",
        "plt.plot(hist.history['val_loss'])\n",
        "plt.title('Model loss')\n",
        "plt.ylabel('Loss')\n",
        "plt.xlabel('Epoch')\n",
        "plt.legend(['Train', 'Val'], loc='upper right')\n",
        "plt.show()\n"
      ],
      "execution_count": 21,
      "outputs": [
        {
          "output_type": "display_data",
          "data": {
            "image/png": "[encoded data removed]",
            "text/plain": [
              "<Figure size 432x288 with 1 Axes>"
            ]
          },
          "metadata": {
            "tags": [],
            "needs_background": "light"
          }
        }
      ]
    },
    {
      "cell_type": "code",
      "metadata": {
        "colab": {
          "base_uri": "https://localhost:8080/",
          "height": 295
        },
        "id": "YPSbp5LO5W2v",
        "outputId": "b0094f9b-b17d-4ceb-bf47-767a1494d98c"
      },
      "source": [
        "plt.plot(hist.history['accuracy']) #training accuracy and validation accuracy\n",
        "plt.plot(hist.history['val_accuracy'])\n",
        "plt.title('Model accuracy')\n",
        "plt.ylabel('Accuracy')\n",
        "plt.xlabel('Epoch')\n",
        "plt.legend(['Train', 'Val'], loc='lower right')\n",
        "plt.show()"
      ],
      "execution_count": 29,
      "outputs": [
        {
          "output_type": "display_data",
          "data": {
            "image/png": "[encoded data removed]",
            "text/plain": [
              "<Figure size 432x288 with 1 Axes>"
            ]
          },
          "metadata": {
            "tags": [],
            "needs_background": "light"
          }
        }
      ]
    },
    {
      "cell_type": "markdown",
      "metadata": {
        "id": "Og7CXF5_5hxe"
      },
      "source": [
        "adding regularization "
      ]
    },
    {
      "cell_type": "code",
      "metadata": {
        "id": "G1Z_fSFbKwMJ"
      },
      "source": [
        "model_2 = Sequential([ #network that overfits the training set\n",
        "    Dense(1000, activation='relu', input_shape=(10,)),\n",
        "    Dense(1000, activation='relu'),\n",
        "    Dense(1000, activation='relu'),\n",
        "    Dense(1000, activation='relu'),\n",
        "    Dense(1, activation='sigmoid'),\n",
        "])"
      ],
      "execution_count": 23,
      "outputs": []
    },
    {
      "cell_type": "code",
      "metadata": {
        "id": "sklD90IAK_WE"
      },
      "source": [
        "model_2.compile(optimizer='adam',\n",
        "              loss='binary_crossentropy',\n",
        "              metrics=['accuracy'])"
      ],
      "execution_count": 24,
      "outputs": []
    },
    {
      "cell_type": "code",
      "metadata": {
        "colab": {
          "base_uri": "https://localhost:8080/"
        },
        "id": "MeI9Rk3NLCeo",
        "outputId": "605c1211-b1fe-4721-8834-098ee94619be"
      },
      "source": [
        "hist_2 = model_2.fit(X_train, Y_train,\n",
        "          batch_size=32, epochs=100,\n",
        "          validation_data=(X_val, Y_val))"
      ],
      "execution_count": 25,
      "outputs": [
        {
          "output_type": "stream",
          "text": [
            "Epoch 1/100\n",
            "32/32 [==============================] - 3s 50ms/step - loss: 0.5554 - accuracy: 0.6930 - val_loss: 0.3918 - val_accuracy: 0.8356\n",
            "Epoch 2/100\n",
            "32/32 [==============================] - 1s 38ms/step - loss: 0.3435 - accuracy: 0.8540 - val_loss: 0.3632 - val_accuracy: 0.8447\n",
            "Epoch 3/100\n",
            "32/32 [==============================] - 1s 37ms/step - loss: 0.3254 - accuracy: 0.8635 - val_loss: 0.3614 - val_accuracy: 0.8447\n",
            "Epoch 4/100\n",
            "32/32 [==============================] - 1s 38ms/step - loss: 0.2740 - accuracy: 0.8857 - val_loss: 0.3357 - val_accuracy: 0.8584\n",
            "Epoch 5/100\n",
            "32/32 [==============================] - 1s 39ms/step - loss: 0.2298 - accuracy: 0.9148 - val_loss: 0.4110 - val_accuracy: 0.8356\n",
            "Epoch 6/100\n",
            "32/32 [==============================] - 1s 38ms/step - loss: 0.2578 - accuracy: 0.8864 - val_loss: 0.3557 - val_accuracy: 0.8767\n",
            "Epoch 7/100\n",
            "32/32 [==============================] - 1s 38ms/step - loss: 0.2632 - accuracy: 0.8942 - val_loss: 0.3262 - val_accuracy: 0.8904\n",
            "Epoch 8/100\n",
            "32/32 [==============================] - 1s 38ms/step - loss: 0.2205 - accuracy: 0.9092 - val_loss: 0.3843 - val_accuracy: 0.8858\n",
            "Epoch 9/100\n",
            "32/32 [==============================] - 1s 38ms/step - loss: 0.2280 - accuracy: 0.9129 - val_loss: 0.3362 - val_accuracy: 0.8721\n",
            "Epoch 10/100\n",
            "32/32 [==============================] - 1s 37ms/step - loss: 0.2075 - accuracy: 0.9118 - val_loss: 0.3552 - val_accuracy: 0.8584\n",
            "Epoch 11/100\n",
            "32/32 [==============================] - 1s 38ms/step - loss: 0.2014 - accuracy: 0.9107 - val_loss: 0.3073 - val_accuracy: 0.9087\n",
            "Epoch 12/100\n",
            "32/32 [==============================] - 1s 38ms/step - loss: 0.2242 - accuracy: 0.9095 - val_loss: 0.3918 - val_accuracy: 0.8630\n",
            "Epoch 13/100\n",
            "32/32 [==============================] - 1s 39ms/step - loss: 0.2367 - accuracy: 0.8951 - val_loss: 0.3504 - val_accuracy: 0.8813\n",
            "Epoch 14/100\n",
            "32/32 [==============================] - 1s 38ms/step - loss: 0.1991 - accuracy: 0.9311 - val_loss: 0.3244 - val_accuracy: 0.9041\n",
            "Epoch 15/100\n",
            "32/32 [==============================] - 1s 38ms/step - loss: 0.1945 - accuracy: 0.9209 - val_loss: 0.3651 - val_accuracy: 0.8767\n",
            "Epoch 16/100\n",
            "32/32 [==============================] - 1s 37ms/step - loss: 0.2233 - accuracy: 0.9066 - val_loss: 0.3691 - val_accuracy: 0.8767\n",
            "Epoch 17/100\n",
            "32/32 [==============================] - 1s 37ms/step - loss: 0.1869 - accuracy: 0.9236 - val_loss: 0.3804 - val_accuracy: 0.8813\n",
            "Epoch 18/100\n",
            "32/32 [==============================] - 1s 38ms/step - loss: 0.2086 - accuracy: 0.9185 - val_loss: 0.3575 - val_accuracy: 0.9132\n",
            "Epoch 19/100\n",
            "32/32 [==============================] - 1s 39ms/step - loss: 0.1881 - accuracy: 0.9209 - val_loss: 0.4148 - val_accuracy: 0.8676\n",
            "Epoch 20/100\n",
            "32/32 [==============================] - 1s 39ms/step - loss: 0.1873 - accuracy: 0.9285 - val_loss: 0.3157 - val_accuracy: 0.8858\n",
            "Epoch 21/100\n",
            "32/32 [==============================] - 1s 39ms/step - loss: 0.1867 - accuracy: 0.9246 - val_loss: 0.3262 - val_accuracy: 0.9041\n",
            "Epoch 22/100\n",
            "32/32 [==============================] - 1s 38ms/step - loss: 0.1826 - accuracy: 0.9145 - val_loss: 0.3364 - val_accuracy: 0.9041\n",
            "Epoch 23/100\n",
            "32/32 [==============================] - 1s 38ms/step - loss: 0.1670 - accuracy: 0.9314 - val_loss: 0.3229 - val_accuracy: 0.9132\n",
            "Epoch 24/100\n",
            "32/32 [==============================] - 1s 38ms/step - loss: 0.1927 - accuracy: 0.9210 - val_loss: 0.3577 - val_accuracy: 0.8950\n",
            "Epoch 25/100\n",
            "32/32 [==============================] - 1s 39ms/step - loss: 0.1830 - accuracy: 0.9206 - val_loss: 0.3568 - val_accuracy: 0.8721\n",
            "Epoch 26/100\n",
            "32/32 [==============================] - 1s 39ms/step - loss: 0.1827 - accuracy: 0.9273 - val_loss: 0.3270 - val_accuracy: 0.9132\n",
            "Epoch 27/100\n",
            "32/32 [==============================] - 1s 38ms/step - loss: 0.2278 - accuracy: 0.9164 - val_loss: 0.4057 - val_accuracy: 0.8995\n",
            "Epoch 28/100\n",
            "32/32 [==============================] - 1s 39ms/step - loss: 0.1867 - accuracy: 0.9307 - val_loss: 0.3309 - val_accuracy: 0.8995\n",
            "Epoch 29/100\n",
            "32/32 [==============================] - 1s 37ms/step - loss: 0.1941 - accuracy: 0.9289 - val_loss: 0.3684 - val_accuracy: 0.8950\n",
            "Epoch 30/100\n",
            "32/32 [==============================] - 1s 40ms/step - loss: 0.1933 - accuracy: 0.9196 - val_loss: 0.3274 - val_accuracy: 0.9087\n",
            "Epoch 31/100\n",
            "32/32 [==============================] - 1s 39ms/step - loss: 0.1836 - accuracy: 0.9216 - val_loss: 0.3244 - val_accuracy: 0.8858\n",
            "Epoch 32/100\n",
            "32/32 [==============================] - 1s 38ms/step - loss: 0.1835 - accuracy: 0.9222 - val_loss: 0.3390 - val_accuracy: 0.8904\n",
            "Epoch 33/100\n",
            "32/32 [==============================] - 1s 38ms/step - loss: 0.1779 - accuracy: 0.9300 - val_loss: 0.3347 - val_accuracy: 0.9087\n",
            "Epoch 34/100\n",
            "32/32 [==============================] - 1s 38ms/step - loss: 0.1658 - accuracy: 0.9339 - val_loss: 0.3925 - val_accuracy: 0.8904\n",
            "Epoch 35/100\n",
            "32/32 [==============================] - 1s 39ms/step - loss: 0.1446 - accuracy: 0.9425 - val_loss: 0.3522 - val_accuracy: 0.8858\n",
            "Epoch 36/100\n",
            "32/32 [==============================] - 1s 38ms/step - loss: 0.1708 - accuracy: 0.9434 - val_loss: 0.3978 - val_accuracy: 0.8767\n",
            "Epoch 37/100\n",
            "32/32 [==============================] - 1s 39ms/step - loss: 0.1556 - accuracy: 0.9315 - val_loss: 0.3648 - val_accuracy: 0.8858\n",
            "Epoch 38/100\n",
            "32/32 [==============================] - 1s 42ms/step - loss: 0.1642 - accuracy: 0.9368 - val_loss: 0.3849 - val_accuracy: 0.8904\n",
            "Epoch 39/100\n",
            "32/32 [==============================] - 1s 41ms/step - loss: 0.2075 - accuracy: 0.9112 - val_loss: 0.4426 - val_accuracy: 0.8858\n",
            "Epoch 40/100\n",
            "32/32 [==============================] - 1s 39ms/step - loss: 0.1500 - accuracy: 0.9486 - val_loss: 0.3381 - val_accuracy: 0.8767\n",
            "Epoch 41/100\n",
            "32/32 [==============================] - 1s 41ms/step - loss: 0.1579 - accuracy: 0.9472 - val_loss: 0.3580 - val_accuracy: 0.8721\n",
            "Epoch 42/100\n",
            "32/32 [==============================] - 1s 40ms/step - loss: 0.2325 - accuracy: 0.8950 - val_loss: 0.3397 - val_accuracy: 0.8950\n",
            "Epoch 43/100\n",
            "32/32 [==============================] - 1s 39ms/step - loss: 0.1459 - accuracy: 0.9347 - val_loss: 0.3506 - val_accuracy: 0.8950\n",
            "Epoch 44/100\n",
            "32/32 [==============================] - 1s 38ms/step - loss: 0.1440 - accuracy: 0.9507 - val_loss: 0.3544 - val_accuracy: 0.9041\n",
            "Epoch 45/100\n",
            "32/32 [==============================] - 1s 38ms/step - loss: 0.1708 - accuracy: 0.9240 - val_loss: 0.3496 - val_accuracy: 0.9041\n",
            "Epoch 46/100\n",
            "32/32 [==============================] - 1s 39ms/step - loss: 0.1460 - accuracy: 0.9424 - val_loss: 0.3397 - val_accuracy: 0.8995\n",
            "Epoch 47/100\n",
            "32/32 [==============================] - 1s 38ms/step - loss: 0.1951 - accuracy: 0.9257 - val_loss: 0.3650 - val_accuracy: 0.8950\n",
            "Epoch 48/100\n",
            "32/32 [==============================] - 1s 38ms/step - loss: 0.1344 - accuracy: 0.9488 - val_loss: 0.3449 - val_accuracy: 0.8995\n",
            "Epoch 49/100\n",
            "32/32 [==============================] - 1s 38ms/step - loss: 0.1512 - accuracy: 0.9539 - val_loss: 0.3783 - val_accuracy: 0.8721\n",
            "Epoch 50/100\n",
            "32/32 [==============================] - 1s 38ms/step - loss: 0.1952 - accuracy: 0.9191 - val_loss: 0.3422 - val_accuracy: 0.8950\n",
            "Epoch 51/100\n",
            "32/32 [==============================] - 1s 38ms/step - loss: 0.1382 - accuracy: 0.9395 - val_loss: 0.3718 - val_accuracy: 0.8995\n",
            "Epoch 52/100\n",
            "32/32 [==============================] - 1s 39ms/step - loss: 0.1313 - accuracy: 0.9441 - val_loss: 0.3655 - val_accuracy: 0.9087\n",
            "Epoch 53/100\n",
            "32/32 [==============================] - 1s 38ms/step - loss: 0.1990 - accuracy: 0.9323 - val_loss: 0.4069 - val_accuracy: 0.8995\n",
            "Epoch 54/100\n",
            "32/32 [==============================] - 1s 41ms/step - loss: 0.1457 - accuracy: 0.9417 - val_loss: 0.4093 - val_accuracy: 0.8904\n",
            "Epoch 55/100\n",
            "32/32 [==============================] - 1s 39ms/step - loss: 0.1495 - accuracy: 0.9314 - val_loss: 0.3589 - val_accuracy: 0.8767\n",
            "Epoch 56/100\n",
            "32/32 [==============================] - 1s 40ms/step - loss: 0.1569 - accuracy: 0.9384 - val_loss: 0.3675 - val_accuracy: 0.9041\n",
            "Epoch 57/100\n",
            "32/32 [==============================] - 1s 38ms/step - loss: 0.1448 - accuracy: 0.9491 - val_loss: 0.3805 - val_accuracy: 0.8995\n",
            "Epoch 58/100\n",
            "32/32 [==============================] - 1s 39ms/step - loss: 0.1366 - accuracy: 0.9409 - val_loss: 0.3350 - val_accuracy: 0.8904\n",
            "Epoch 59/100\n",
            "32/32 [==============================] - 1s 38ms/step - loss: 0.1661 - accuracy: 0.9334 - val_loss: 0.3581 - val_accuracy: 0.9041\n",
            "Epoch 60/100\n",
            "32/32 [==============================] - 1s 39ms/step - loss: 0.1641 - accuracy: 0.9232 - val_loss: 0.3685 - val_accuracy: 0.9087\n",
            "Epoch 61/100\n",
            "32/32 [==============================] - 1s 38ms/step - loss: 0.1560 - accuracy: 0.9295 - val_loss: 0.3304 - val_accuracy: 0.8995\n",
            "Epoch 62/100\n",
            "32/32 [==============================] - 1s 39ms/step - loss: 0.1734 - accuracy: 0.9262 - val_loss: 0.3983 - val_accuracy: 0.8813\n",
            "Epoch 63/100\n",
            "32/32 [==============================] - 1s 39ms/step - loss: 0.1283 - accuracy: 0.9458 - val_loss: 0.4238 - val_accuracy: 0.8721\n",
            "Epoch 64/100\n",
            "32/32 [==============================] - 1s 38ms/step - loss: 0.1415 - accuracy: 0.9512 - val_loss: 0.3633 - val_accuracy: 0.9041\n",
            "Epoch 65/100\n",
            "32/32 [==============================] - 1s 38ms/step - loss: 0.1373 - accuracy: 0.9436 - val_loss: 0.3906 - val_accuracy: 0.8995\n",
            "Epoch 66/100\n",
            "32/32 [==============================] - 1s 39ms/step - loss: 0.1438 - accuracy: 0.9410 - val_loss: 0.4413 - val_accuracy: 0.9132\n",
            "Epoch 67/100\n",
            "32/32 [==============================] - 1s 40ms/step - loss: 0.1335 - accuracy: 0.9493 - val_loss: 0.3571 - val_accuracy: 0.8767\n",
            "Epoch 68/100\n",
            "32/32 [==============================] - 1s 39ms/step - loss: 0.1574 - accuracy: 0.9296 - val_loss: 0.3707 - val_accuracy: 0.8813\n",
            "Epoch 69/100\n",
            "32/32 [==============================] - 1s 40ms/step - loss: 0.1703 - accuracy: 0.9283 - val_loss: 0.3138 - val_accuracy: 0.9087\n",
            "Epoch 70/100\n",
            "32/32 [==============================] - 1s 40ms/step - loss: 0.1439 - accuracy: 0.9509 - val_loss: 0.3980 - val_accuracy: 0.9041\n",
            "Epoch 71/100\n",
            "32/32 [==============================] - 1s 38ms/step - loss: 0.1471 - accuracy: 0.9391 - val_loss: 0.3402 - val_accuracy: 0.9041\n",
            "Epoch 72/100\n",
            "32/32 [==============================] - 1s 40ms/step - loss: 0.1470 - accuracy: 0.9377 - val_loss: 0.3764 - val_accuracy: 0.9087\n",
            "Epoch 73/100\n",
            "32/32 [==============================] - 1s 40ms/step - loss: 0.1524 - accuracy: 0.9428 - val_loss: 0.4124 - val_accuracy: 0.8676\n",
            "Epoch 74/100\n",
            "32/32 [==============================] - 1s 41ms/step - loss: 0.1310 - accuracy: 0.9485 - val_loss: 0.3750 - val_accuracy: 0.9041\n",
            "Epoch 75/100\n",
            "32/32 [==============================] - 1s 39ms/step - loss: 0.1603 - accuracy: 0.9318 - val_loss: 0.4866 - val_accuracy: 0.8995\n",
            "Epoch 76/100\n",
            "32/32 [==============================] - 1s 40ms/step - loss: 0.1452 - accuracy: 0.9423 - val_loss: 0.3735 - val_accuracy: 0.8904\n",
            "Epoch 77/100\n",
            "32/32 [==============================] - 1s 39ms/step - loss: 0.1269 - accuracy: 0.9496 - val_loss: 0.3149 - val_accuracy: 0.8995\n",
            "Epoch 78/100\n",
            "32/32 [==============================] - 1s 41ms/step - loss: 0.1625 - accuracy: 0.9311 - val_loss: 0.4736 - val_accuracy: 0.8767\n",
            "Epoch 79/100\n",
            "32/32 [==============================] - 1s 39ms/step - loss: 0.1385 - accuracy: 0.9510 - val_loss: 0.3542 - val_accuracy: 0.8950\n",
            "Epoch 80/100\n",
            "32/32 [==============================] - 1s 39ms/step - loss: 0.1423 - accuracy: 0.9350 - val_loss: 0.4491 - val_accuracy: 0.8676\n",
            "Epoch 81/100\n",
            "32/32 [==============================] - 1s 38ms/step - loss: 0.1587 - accuracy: 0.9361 - val_loss: 0.3261 - val_accuracy: 0.8904\n",
            "Epoch 82/100\n",
            "32/32 [==============================] - 1s 40ms/step - loss: 0.1249 - accuracy: 0.9603 - val_loss: 0.3068 - val_accuracy: 0.8904\n",
            "Epoch 83/100\n",
            "32/32 [==============================] - 1s 38ms/step - loss: 0.1351 - accuracy: 0.9482 - val_loss: 0.3806 - val_accuracy: 0.8858\n",
            "Epoch 84/100\n",
            "32/32 [==============================] - 1s 39ms/step - loss: 0.1396 - accuracy: 0.9367 - val_loss: 0.5019 - val_accuracy: 0.8995\n",
            "Epoch 85/100\n",
            "32/32 [==============================] - 1s 40ms/step - loss: 0.1336 - accuracy: 0.9617 - val_loss: 0.3686 - val_accuracy: 0.9132\n",
            "Epoch 86/100\n",
            "32/32 [==============================] - 1s 40ms/step - loss: 0.1078 - accuracy: 0.9632 - val_loss: 0.3701 - val_accuracy: 0.8950\n",
            "Epoch 87/100\n",
            "32/32 [==============================] - 1s 40ms/step - loss: 0.1136 - accuracy: 0.9620 - val_loss: 0.4037 - val_accuracy: 0.8858\n",
            "Epoch 88/100\n",
            "32/32 [==============================] - 1s 39ms/step - loss: 0.1279 - accuracy: 0.9360 - val_loss: 0.3302 - val_accuracy: 0.8995\n",
            "Epoch 89/100\n",
            "32/32 [==============================] - 1s 40ms/step - loss: 0.1345 - accuracy: 0.9505 - val_loss: 0.3387 - val_accuracy: 0.9087\n",
            "Epoch 90/100\n",
            "32/32 [==============================] - 1s 40ms/step - loss: 0.1250 - accuracy: 0.9461 - val_loss: 0.4041 - val_accuracy: 0.9087\n",
            "Epoch 91/100\n",
            "32/32 [==============================] - 1s 40ms/step - loss: 0.1032 - accuracy: 0.9554 - val_loss: 0.5213 - val_accuracy: 0.8721\n",
            "Epoch 92/100\n",
            "32/32 [==============================] - 1s 39ms/step - loss: 0.1068 - accuracy: 0.9515 - val_loss: 0.5118 - val_accuracy: 0.8813\n",
            "Epoch 93/100\n",
            "32/32 [==============================] - 1s 39ms/step - loss: 0.1413 - accuracy: 0.9455 - val_loss: 0.4045 - val_accuracy: 0.9087\n",
            "Epoch 94/100\n",
            "32/32 [==============================] - 1s 40ms/step - loss: 0.0990 - accuracy: 0.9631 - val_loss: 0.4303 - val_accuracy: 0.9087\n",
            "Epoch 95/100\n",
            "32/32 [==============================] - 1s 38ms/step - loss: 0.1072 - accuracy: 0.9566 - val_loss: 0.5396 - val_accuracy: 0.8813\n",
            "Epoch 96/100\n",
            "32/32 [==============================] - 1s 38ms/step - loss: 0.1094 - accuracy: 0.9596 - val_loss: 0.3848 - val_accuracy: 0.9132\n",
            "Epoch 97/100\n",
            "32/32 [==============================] - 1s 38ms/step - loss: 0.1056 - accuracy: 0.9662 - val_loss: 0.5528 - val_accuracy: 0.8858\n",
            "Epoch 98/100\n",
            "32/32 [==============================] - 1s 39ms/step - loss: 0.1170 - accuracy: 0.9566 - val_loss: 0.4424 - val_accuracy: 0.8858\n",
            "Epoch 99/100\n",
            "32/32 [==============================] - 1s 38ms/step - loss: 0.1087 - accuracy: 0.9514 - val_loss: 0.4338 - val_accuracy: 0.9132\n",
            "Epoch 100/100\n",
            "32/32 [==============================] - 1s 40ms/step - loss: 0.1039 - accuracy: 0.9568 - val_loss: 0.4378 - val_accuracy: 0.8813\n"
          ],
          "name": "stdout"
        }
      ]
    },
    {
      "cell_type": "code",
      "metadata": {
        "colab": {
          "base_uri": "https://localhost:8080/",
          "height": 295
        },
        "id": "C8RnaOlXLIJU",
        "outputId": "21a8ff06-6218-4d1a-c805-fd9f7d150f11"
      },
      "source": [
        "plt.plot(hist_2.history['loss'])\n",
        "plt.plot(hist_2.history['val_loss'])\n",
        "plt.title('Model loss')\n",
        "plt.ylabel('Loss')\n",
        "plt.xlabel('Epoch')\n",
        "plt.legend(['Train', 'Val'], loc='upper right')\n",
        "plt.show()"
      ],
      "execution_count": 26,
      "outputs": [
        {
          "output_type": "display_data",
          "data": {
            "image/png": "[encoded data removed]",
            "text/plain": [
              "<Figure size 432x288 with 1 Axes>"
            ]
          },
          "metadata": {
            "tags": [],
            "needs_background": "light"
          }
        }
      ]
    },
    {
      "cell_type": "code",
      "metadata": {
        "colab": {
          "base_uri": "https://localhost:8080/",
          "height": 295
        },
        "id": "iNLUlBV6MNF4",
        "outputId": "5a87520f-a8e8-41fe-d44f-b230e331aa72"
      },
      "source": [
        "plt.plot(hist_2.history['accuracy'])\n",
        "plt.plot(hist_2.history['val_accuracy'])\n",
        "plt.title('Model accuracy')\n",
        "plt.ylabel('Accuracy')\n",
        "plt.xlabel('Epoch')\n",
        "plt.legend(['Train', 'Val'], loc='lower right')\n",
        "plt.show()"
      ],
      "execution_count": 28,
      "outputs": [
        {
          "output_type": "display_data",
          "data": {
            "image/png": "[encoded data removed]",
            "text/plain": [
              "<Figure size 432x288 with 1 Axes>"
            ]
          },
          "metadata": {
            "tags": [],
            "needs_background": "light"
          }
        }
      ]
    },
    {
      "cell_type": "code",
      "metadata": {
        "id": "9WoVTGC1Mk6X"
      },
      "source": [
        "from keras.layers import Dropout\n",
        "from keras import regularizers"
      ],
      "execution_count": 30,
      "outputs": []
    },
    {
      "cell_type": "code",
      "metadata": {
        "id": "99trHgGbMn6Y"
      },
      "source": [
        "model_3 = Sequential([\n",
        "    Dense(1000, activation='relu', kernel_regularizer=regularizers.l2(0.01), input_shape=(10,)),\n",
        "    Dropout(0.3),\n",
        "    Dense(1000, activation='relu', kernel_regularizer=regularizers.l2(0.01)),\n",
        "    Dropout(0.3),\n",
        "    Dense(1000, activation='relu', kernel_regularizer=regularizers.l2(0.01)),\n",
        "    Dropout(0.3),\n",
        "    Dense(1000, activation='relu', kernel_regularizer=regularizers.l2(0.01)),\n",
        "    Dropout(0.3),\n",
        "    Dense(1, activation='sigmoid', kernel_regularizer=regularizers.l2(0.01)),\n",
        "])"
      ],
      "execution_count": 31,
      "outputs": []
    },
    {
      "cell_type": "code",
      "metadata": {
        "id": "N1y6IXEMMp69"
      },
      "source": [
        "model_3.compile(optimizer='adam',\n",
        "              loss='binary_crossentropy',\n",
        "              metrics=['accuracy'])"
      ],
      "execution_count": 32,
      "outputs": []
    },
    {
      "cell_type": "code",
      "metadata": {
        "colab": {
          "base_uri": "https://localhost:8080/"
        },
        "id": "MQfMbyA-Mr7K",
        "outputId": "c5f9d4b2-d405-494d-bcf5-eb26828db227"
      },
      "source": [
        "hist_3 = model_3.fit(X_train, Y_train,\n",
        "          batch_size=32, epochs=100,\n",
        "          validation_data=(X_val, Y_val))"
      ],
      "execution_count": 33,
      "outputs": [
        {
          "output_type": "stream",
          "text": [
            "Epoch 1/100\n",
            "32/32 [==============================] - 4s 65ms/step - loss: 21.1002 - accuracy: 0.5391 - val_loss: 3.8972 - val_accuracy: 0.8356\n",
            "Epoch 2/100\n",
            "32/32 [==============================] - 2s 52ms/step - loss: 2.4809 - accuracy: 0.8327 - val_loss: 0.6912 - val_accuracy: 0.8402\n",
            "Epoch 3/100\n",
            "32/32 [==============================] - 2s 53ms/step - loss: 0.5832 - accuracy: 0.8670 - val_loss: 0.5503 - val_accuracy: 0.8630\n",
            "Epoch 4/100\n",
            "32/32 [==============================] - 2s 52ms/step - loss: 0.4841 - accuracy: 0.9038 - val_loss: 0.5166 - val_accuracy: 0.8356\n",
            "Epoch 5/100\n",
            "32/32 [==============================] - 2s 49ms/step - loss: 0.4866 - accuracy: 0.8804 - val_loss: 0.4946 - val_accuracy: 0.8676\n",
            "Epoch 6/100\n",
            "32/32 [==============================] - 2s 53ms/step - loss: 0.4378 - accuracy: 0.9056 - val_loss: 0.5504 - val_accuracy: 0.8219\n",
            "Epoch 7/100\n",
            "32/32 [==============================] - 2s 52ms/step - loss: 0.4931 - accuracy: 0.8720 - val_loss: 0.4769 - val_accuracy: 0.8721\n",
            "Epoch 8/100\n",
            "32/32 [==============================] - 2s 53ms/step - loss: 0.4523 - accuracy: 0.8975 - val_loss: 0.4799 - val_accuracy: 0.8767\n",
            "Epoch 9/100\n",
            "32/32 [==============================] - 2s 52ms/step - loss: 0.4668 - accuracy: 0.8945 - val_loss: 0.4815 - val_accuracy: 0.8676\n",
            "Epoch 10/100\n",
            "32/32 [==============================] - 2s 51ms/step - loss: 0.4260 - accuracy: 0.8987 - val_loss: 0.4797 - val_accuracy: 0.8721\n",
            "Epoch 11/100\n",
            "32/32 [==============================] - 2s 52ms/step - loss: 0.4291 - accuracy: 0.9052 - val_loss: 0.4657 - val_accuracy: 0.8721\n",
            "Epoch 12/100\n",
            "32/32 [==============================] - 2s 53ms/step - loss: 0.4437 - accuracy: 0.8911 - val_loss: 0.4826 - val_accuracy: 0.8676\n",
            "Epoch 13/100\n",
            "32/32 [==============================] - 2s 52ms/step - loss: 0.4200 - accuracy: 0.9023 - val_loss: 0.4840 - val_accuracy: 0.8767\n",
            "Epoch 14/100\n",
            "32/32 [==============================] - 2s 50ms/step - loss: 0.4489 - accuracy: 0.8934 - val_loss: 0.4690 - val_accuracy: 0.8721\n",
            "Epoch 15/100\n",
            "32/32 [==============================] - 2s 54ms/step - loss: 0.4424 - accuracy: 0.8882 - val_loss: 0.4654 - val_accuracy: 0.8721\n",
            "Epoch 16/100\n",
            "32/32 [==============================] - 2s 52ms/step - loss: 0.4260 - accuracy: 0.8890 - val_loss: 0.4707 - val_accuracy: 0.8813\n",
            "Epoch 17/100\n",
            "32/32 [==============================] - 2s 52ms/step - loss: 0.4204 - accuracy: 0.9091 - val_loss: 0.4992 - val_accuracy: 0.8584\n",
            "Epoch 18/100\n",
            "32/32 [==============================] - 2s 50ms/step - loss: 0.4682 - accuracy: 0.8675 - val_loss: 0.5014 - val_accuracy: 0.8630\n",
            "Epoch 19/100\n",
            "32/32 [==============================] - 2s 51ms/step - loss: 0.4538 - accuracy: 0.8787 - val_loss: 0.4729 - val_accuracy: 0.8767\n",
            "Epoch 20/100\n",
            "32/32 [==============================] - 2s 54ms/step - loss: 0.4113 - accuracy: 0.9019 - val_loss: 0.4829 - val_accuracy: 0.8630\n",
            "Epoch 21/100\n",
            "32/32 [==============================] - 2s 55ms/step - loss: 0.4661 - accuracy: 0.8776 - val_loss: 0.4720 - val_accuracy: 0.8676\n",
            "Epoch 22/100\n",
            "32/32 [==============================] - 2s 53ms/step - loss: 0.3800 - accuracy: 0.9204 - val_loss: 0.4751 - val_accuracy: 0.8767\n",
            "Epoch 23/100\n",
            "32/32 [==============================] - 2s 55ms/step - loss: 0.4435 - accuracy: 0.8721 - val_loss: 0.4643 - val_accuracy: 0.8676\n",
            "Epoch 24/100\n",
            "32/32 [==============================] - 2s 55ms/step - loss: 0.4270 - accuracy: 0.8974 - val_loss: 0.5180 - val_accuracy: 0.8630\n",
            "Epoch 25/100\n",
            "32/32 [==============================] - 2s 53ms/step - loss: 0.4489 - accuracy: 0.8676 - val_loss: 0.4568 - val_accuracy: 0.8767\n",
            "Epoch 26/100\n",
            "32/32 [==============================] - 2s 52ms/step - loss: 0.4214 - accuracy: 0.9086 - val_loss: 0.4665 - val_accuracy: 0.8584\n",
            "Epoch 27/100\n",
            "32/32 [==============================] - 2s 53ms/step - loss: 0.4593 - accuracy: 0.8705 - val_loss: 0.4669 - val_accuracy: 0.8676\n",
            "Epoch 28/100\n",
            "32/32 [==============================] - 2s 51ms/step - loss: 0.4077 - accuracy: 0.9043 - val_loss: 0.4533 - val_accuracy: 0.8813\n",
            "Epoch 29/100\n",
            "32/32 [==============================] - 2s 55ms/step - loss: 0.4387 - accuracy: 0.8869 - val_loss: 0.4534 - val_accuracy: 0.8858\n",
            "Epoch 30/100\n",
            "32/32 [==============================] - 2s 52ms/step - loss: 0.4448 - accuracy: 0.8788 - val_loss: 0.4612 - val_accuracy: 0.8721\n",
            "Epoch 31/100\n",
            "32/32 [==============================] - 2s 52ms/step - loss: 0.4407 - accuracy: 0.8827 - val_loss: 0.4588 - val_accuracy: 0.8767\n",
            "Epoch 32/100\n",
            "32/32 [==============================] - 2s 53ms/step - loss: 0.4263 - accuracy: 0.8971 - val_loss: 0.4524 - val_accuracy: 0.8721\n",
            "Epoch 33/100\n",
            "32/32 [==============================] - 2s 54ms/step - loss: 0.4537 - accuracy: 0.8710 - val_loss: 0.4584 - val_accuracy: 0.8721\n",
            "Epoch 34/100\n",
            "32/32 [==============================] - 2s 52ms/step - loss: 0.4234 - accuracy: 0.9000 - val_loss: 0.4672 - val_accuracy: 0.8630\n",
            "Epoch 35/100\n",
            "32/32 [==============================] - 2s 52ms/step - loss: 0.4107 - accuracy: 0.8922 - val_loss: 0.4592 - val_accuracy: 0.8767\n",
            "Epoch 36/100\n",
            "32/32 [==============================] - 2s 51ms/step - loss: 0.4112 - accuracy: 0.9060 - val_loss: 0.4588 - val_accuracy: 0.8767\n",
            "Epoch 37/100\n",
            "32/32 [==============================] - 2s 52ms/step - loss: 0.4355 - accuracy: 0.8940 - val_loss: 0.5010 - val_accuracy: 0.8539\n",
            "Epoch 38/100\n",
            "32/32 [==============================] - 2s 53ms/step - loss: 0.4509 - accuracy: 0.8723 - val_loss: 0.4602 - val_accuracy: 0.8676\n",
            "Epoch 39/100\n",
            "32/32 [==============================] - 2s 53ms/step - loss: 0.4274 - accuracy: 0.9044 - val_loss: 0.4811 - val_accuracy: 0.8584\n",
            "Epoch 40/100\n",
            "32/32 [==============================] - 2s 52ms/step - loss: 0.4036 - accuracy: 0.9091 - val_loss: 0.4502 - val_accuracy: 0.8813\n",
            "Epoch 41/100\n",
            "32/32 [==============================] - 2s 51ms/step - loss: 0.4319 - accuracy: 0.8968 - val_loss: 0.4552 - val_accuracy: 0.8767\n",
            "Epoch 42/100\n",
            "32/32 [==============================] - 2s 52ms/step - loss: 0.4447 - accuracy: 0.8750 - val_loss: 0.4567 - val_accuracy: 0.8858\n",
            "Epoch 43/100\n",
            "32/32 [==============================] - 2s 55ms/step - loss: 0.4110 - accuracy: 0.9027 - val_loss: 0.4946 - val_accuracy: 0.8447\n",
            "Epoch 44/100\n",
            "32/32 [==============================] - 2s 51ms/step - loss: 0.4329 - accuracy: 0.8913 - val_loss: 0.5017 - val_accuracy: 0.8402\n",
            "Epoch 45/100\n",
            "32/32 [==============================] - 2s 53ms/step - loss: 0.4495 - accuracy: 0.8843 - val_loss: 0.4578 - val_accuracy: 0.8767\n",
            "Epoch 46/100\n",
            "32/32 [==============================] - 2s 51ms/step - loss: 0.4333 - accuracy: 0.8935 - val_loss: 0.4714 - val_accuracy: 0.8630\n",
            "Epoch 47/100\n",
            "32/32 [==============================] - 2s 53ms/step - loss: 0.4065 - accuracy: 0.9005 - val_loss: 0.4796 - val_accuracy: 0.8630\n",
            "Epoch 48/100\n",
            "32/32 [==============================] - 2s 52ms/step - loss: 0.4442 - accuracy: 0.8861 - val_loss: 0.4781 - val_accuracy: 0.8584\n",
            "Epoch 49/100\n",
            "32/32 [==============================] - 2s 52ms/step - loss: 0.4330 - accuracy: 0.8960 - val_loss: 0.4562 - val_accuracy: 0.8767\n",
            "Epoch 50/100\n",
            "32/32 [==============================] - 2s 52ms/step - loss: 0.4149 - accuracy: 0.8998 - val_loss: 0.4493 - val_accuracy: 0.8721\n",
            "Epoch 51/100\n",
            "32/32 [==============================] - 2s 55ms/step - loss: 0.4214 - accuracy: 0.8845 - val_loss: 0.5059 - val_accuracy: 0.8447\n",
            "Epoch 52/100\n",
            "32/32 [==============================] - 2s 51ms/step - loss: 0.4144 - accuracy: 0.8936 - val_loss: 0.4552 - val_accuracy: 0.8676\n",
            "Epoch 53/100\n",
            "32/32 [==============================] - 2s 51ms/step - loss: 0.4127 - accuracy: 0.8951 - val_loss: 0.4738 - val_accuracy: 0.8676\n",
            "Epoch 54/100\n",
            "32/32 [==============================] - 2s 52ms/step - loss: 0.4393 - accuracy: 0.8909 - val_loss: 0.4548 - val_accuracy: 0.8813\n",
            "Epoch 55/100\n",
            "32/32 [==============================] - 2s 52ms/step - loss: 0.4293 - accuracy: 0.8932 - val_loss: 0.4574 - val_accuracy: 0.8767\n",
            "Epoch 56/100\n",
            "32/32 [==============================] - 2s 57ms/step - loss: 0.4354 - accuracy: 0.8887 - val_loss: 0.4747 - val_accuracy: 0.8630\n",
            "Epoch 57/100\n",
            "32/32 [==============================] - 2s 56ms/step - loss: 0.4436 - accuracy: 0.8905 - val_loss: 0.4518 - val_accuracy: 0.8858\n",
            "Epoch 58/100\n",
            "32/32 [==============================] - 2s 54ms/step - loss: 0.3940 - accuracy: 0.9145 - val_loss: 0.4638 - val_accuracy: 0.8676\n",
            "Epoch 59/100\n",
            "32/32 [==============================] - 2s 54ms/step - loss: 0.4393 - accuracy: 0.8871 - val_loss: 0.5437 - val_accuracy: 0.8219\n",
            "Epoch 60/100\n",
            "32/32 [==============================] - 2s 56ms/step - loss: 0.4705 - accuracy: 0.8768 - val_loss: 0.4876 - val_accuracy: 0.8630\n",
            "Epoch 61/100\n",
            "32/32 [==============================] - 2s 52ms/step - loss: 0.4083 - accuracy: 0.9033 - val_loss: 0.4551 - val_accuracy: 0.8813\n",
            "Epoch 62/100\n",
            "32/32 [==============================] - 2s 53ms/step - loss: 0.4294 - accuracy: 0.8929 - val_loss: 0.4627 - val_accuracy: 0.8767\n",
            "Epoch 63/100\n",
            "32/32 [==============================] - 2s 52ms/step - loss: 0.4465 - accuracy: 0.8957 - val_loss: 0.4522 - val_accuracy: 0.8813\n",
            "Epoch 64/100\n",
            "32/32 [==============================] - 2s 52ms/step - loss: 0.4422 - accuracy: 0.8776 - val_loss: 0.4570 - val_accuracy: 0.8721\n",
            "Epoch 65/100\n",
            "32/32 [==============================] - 2s 52ms/step - loss: 0.4043 - accuracy: 0.9061 - val_loss: 0.4557 - val_accuracy: 0.8676\n",
            "Epoch 66/100\n",
            "32/32 [==============================] - 2s 53ms/step - loss: 0.3988 - accuracy: 0.8993 - val_loss: 0.4502 - val_accuracy: 0.8813\n",
            "Epoch 67/100\n",
            "32/32 [==============================] - 2s 53ms/step - loss: 0.4087 - accuracy: 0.9066 - val_loss: 0.4744 - val_accuracy: 0.8630\n",
            "Epoch 68/100\n",
            "32/32 [==============================] - 2s 56ms/step - loss: 0.4083 - accuracy: 0.9060 - val_loss: 0.4639 - val_accuracy: 0.8767\n",
            "Epoch 69/100\n",
            "32/32 [==============================] - 2s 55ms/step - loss: 0.4378 - accuracy: 0.8816 - val_loss: 0.4546 - val_accuracy: 0.8813\n",
            "Epoch 70/100\n",
            "32/32 [==============================] - 2s 54ms/step - loss: 0.4334 - accuracy: 0.8924 - val_loss: 0.4765 - val_accuracy: 0.8630\n",
            "Epoch 71/100\n",
            "32/32 [==============================] - 2s 53ms/step - loss: 0.4408 - accuracy: 0.8771 - val_loss: 0.4638 - val_accuracy: 0.8721\n",
            "Epoch 72/100\n",
            "32/32 [==============================] - 2s 53ms/step - loss: 0.4237 - accuracy: 0.8954 - val_loss: 0.4744 - val_accuracy: 0.8676\n",
            "Epoch 73/100\n",
            "32/32 [==============================] - 2s 53ms/step - loss: 0.4282 - accuracy: 0.8891 - val_loss: 0.4581 - val_accuracy: 0.8813\n",
            "Epoch 74/100\n",
            "32/32 [==============================] - 2s 55ms/step - loss: 0.4195 - accuracy: 0.8887 - val_loss: 0.4528 - val_accuracy: 0.8858\n",
            "Epoch 75/100\n",
            "32/32 [==============================] - 2s 53ms/step - loss: 0.4019 - accuracy: 0.9143 - val_loss: 0.4774 - val_accuracy: 0.8584\n",
            "Epoch 76/100\n",
            "32/32 [==============================] - 2s 52ms/step - loss: 0.4356 - accuracy: 0.8838 - val_loss: 0.4572 - val_accuracy: 0.8813\n",
            "Epoch 77/100\n",
            "32/32 [==============================] - 2s 52ms/step - loss: 0.4001 - accuracy: 0.9117 - val_loss: 0.4587 - val_accuracy: 0.8813\n",
            "Epoch 78/100\n",
            "32/32 [==============================] - 2s 54ms/step - loss: 0.4143 - accuracy: 0.8998 - val_loss: 0.4620 - val_accuracy: 0.8676\n",
            "Epoch 79/100\n",
            "32/32 [==============================] - 2s 53ms/step - loss: 0.4316 - accuracy: 0.8850 - val_loss: 0.4609 - val_accuracy: 0.8813\n",
            "Epoch 80/100\n",
            "32/32 [==============================] - 2s 54ms/step - loss: 0.4214 - accuracy: 0.9003 - val_loss: 0.4657 - val_accuracy: 0.8676\n",
            "Epoch 81/100\n",
            "32/32 [==============================] - 2s 52ms/step - loss: 0.3975 - accuracy: 0.9075 - val_loss: 0.4500 - val_accuracy: 0.8858\n",
            "Epoch 82/100\n",
            "32/32 [==============================] - 2s 54ms/step - loss: 0.4233 - accuracy: 0.8921 - val_loss: 0.4597 - val_accuracy: 0.8858\n",
            "Epoch 83/100\n",
            "32/32 [==============================] - 2s 53ms/step - loss: 0.4141 - accuracy: 0.8951 - val_loss: 0.4573 - val_accuracy: 0.8767\n",
            "Epoch 84/100\n",
            "32/32 [==============================] - 2s 55ms/step - loss: 0.4154 - accuracy: 0.8963 - val_loss: 0.4553 - val_accuracy: 0.8767\n",
            "Epoch 85/100\n",
            "32/32 [==============================] - 2s 52ms/step - loss: 0.3864 - accuracy: 0.9200 - val_loss: 0.4676 - val_accuracy: 0.8676\n",
            "Epoch 86/100\n",
            "32/32 [==============================] - 2s 56ms/step - loss: 0.3933 - accuracy: 0.9114 - val_loss: 0.4744 - val_accuracy: 0.8630\n",
            "Epoch 87/100\n",
            "32/32 [==============================] - 2s 53ms/step - loss: 0.3995 - accuracy: 0.9078 - val_loss: 0.4547 - val_accuracy: 0.8813\n",
            "Epoch 88/100\n",
            "32/32 [==============================] - 2s 53ms/step - loss: 0.4007 - accuracy: 0.9051 - val_loss: 0.4581 - val_accuracy: 0.8858\n",
            "Epoch 89/100\n",
            "32/32 [==============================] - 2s 52ms/step - loss: 0.4323 - accuracy: 0.8926 - val_loss: 0.4550 - val_accuracy: 0.8721\n",
            "Epoch 90/100\n",
            "32/32 [==============================] - 2s 51ms/step - loss: 0.4172 - accuracy: 0.8966 - val_loss: 0.4538 - val_accuracy: 0.8858\n",
            "Epoch 91/100\n",
            "32/32 [==============================] - 2s 53ms/step - loss: 0.4064 - accuracy: 0.9040 - val_loss: 0.4815 - val_accuracy: 0.8584\n",
            "Epoch 92/100\n",
            "32/32 [==============================] - 2s 56ms/step - loss: 0.4280 - accuracy: 0.9003 - val_loss: 0.4530 - val_accuracy: 0.8858\n",
            "Epoch 93/100\n",
            "32/32 [==============================] - 2s 53ms/step - loss: 0.3950 - accuracy: 0.9046 - val_loss: 0.4491 - val_accuracy: 0.8813\n",
            "Epoch 94/100\n",
            "32/32 [==============================] - 2s 53ms/step - loss: 0.4280 - accuracy: 0.8937 - val_loss: 0.4545 - val_accuracy: 0.8813\n",
            "Epoch 95/100\n",
            "32/32 [==============================] - 2s 53ms/step - loss: 0.4302 - accuracy: 0.8878 - val_loss: 0.4556 - val_accuracy: 0.8813\n",
            "Epoch 96/100\n",
            "32/32 [==============================] - 2s 53ms/step - loss: 0.4503 - accuracy: 0.8934 - val_loss: 0.4517 - val_accuracy: 0.8767\n",
            "Epoch 97/100\n",
            "32/32 [==============================] - 2s 52ms/step - loss: 0.4059 - accuracy: 0.8976 - val_loss: 0.4538 - val_accuracy: 0.8813\n",
            "Epoch 98/100\n",
            "32/32 [==============================] - 2s 52ms/step - loss: 0.4084 - accuracy: 0.8942 - val_loss: 0.4698 - val_accuracy: 0.8630\n",
            "Epoch 99/100\n",
            "32/32 [==============================] - 2s 53ms/step - loss: 0.4197 - accuracy: 0.8763 - val_loss: 0.4620 - val_accuracy: 0.8721\n",
            "Epoch 100/100\n",
            "32/32 [==============================] - 2s 53ms/step - loss: 0.3939 - accuracy: 0.9189 - val_loss: 0.4604 - val_accuracy: 0.8721\n"
          ],
          "name": "stdout"
        }
      ]
    },
    {
      "cell_type": "code",
      "metadata": {
        "colab": {
          "base_uri": "https://localhost:8080/",
          "height": 295
        },
        "id": "XzpF5qcvQMXk",
        "outputId": "5b5478c8-e861-40b4-8c67-a3fdb2ecc83e"
      },
      "source": [
        "plt.plot(hist_3.history['loss'])\n",
        "plt.plot(hist_3.history['val_loss'])\n",
        "plt.title('Model loss')\n",
        "plt.ylabel('Loss')\n",
        "plt.xlabel('Epoch')\n",
        "plt.legend(['Train', 'Val'], loc='upper right')\n",
        "plt.ylim(top=1.2, bottom=0)\n",
        "plt.show()"
      ],
      "execution_count": 34,
      "outputs": [
        {
          "output_type": "display_data",
          "data": {
            "image/png": "[encoded data removed]",
            "text/plain": [
              "<Figure size 432x288 with 1 Axes>"
            ]
          },
          "metadata": {
            "tags": [],
            "needs_background": "light"
          }
        }
      ]
    },
    {
      "cell_type": "code",
      "metadata": {
        "id": "2j64fFcqQP_H"
      },
      "source": [
        ""
      ],
      "execution_count": null,
      "outputs": []
    },
    {
      "cell_type": "code",
      "metadata": {
        "colab": {
          "base_uri": "https://localhost:8080/",
          "height": 295
        },
        "id": "miibKoT3QQE4",
        "outputId": "97506b14-baa3-4e38-e413-f29a1404735b"
      },
      "source": [
        "plt.plot(hist_3.history['accuracy'])\n",
        "plt.plot(hist_3.history['val_accuracy'])\n",
        "plt.title('Model accuracy')\n",
        "plt.ylabel('Accuracy')\n",
        "plt.xlabel('Epoch')\n",
        "plt.legend(['Train', 'Val'], loc='lower right')\n",
        "plt.show()"
      ],
      "execution_count": 35,
      "outputs": [
        {
          "output_type": "display_data",
          "data": {
            "image/png": "[encoded data removed]",
            "text/plain": [
              "<Figure size 432x288 with 1 Axes>"
            ]
          },
          "metadata": {
            "tags": [],
            "needs_background": "light"
          }
        }
      ]
    }
  ]
}